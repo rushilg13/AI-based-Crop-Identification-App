{
 "cells": [
  {
   "cell_type": "code",
   "execution_count": 1,
   "metadata": {},
   "outputs": [],
   "source": [
    "import numpy as np\n",
    "import matplotlib as mlb\n",
    "import matplotlib.pyplot as plt\n",
    "import panC:\\Users\\HPdas as pd\n",
    "import seaborn as sb\n",
    "import tensorflow as tf\n",
    "from tensorflow import keras"
   ]
  },
  {
   "cell_type": "code",
   "execution_count": 2,
   "metadata": {},
   "outputs": [
    {
     "name": "stdout",
     "output_type": "stream",
     "text": [
      "Found 1935 images belonging to 23 classes.\n",
      "Found 0 images belonging to 0 classes.\n"
     ]
    }
   ],
   "source": [
    "from tensorflow.keras.preprocessing.image import ImageDataGenerator\n",
    "train_datagen = ImageDataGenerator(\n",
    "    rescale=1./255,\n",
    "    shear_range=0.2,\n",
    "    zoom_range=0.2,\n",
    "    horizontal_flip=True)\n",
    "\n",
    "test_datagen = ImageDataGenerator(rescale=1./255)\n",
    "\n",
    "train_generator = train_datagen.flow_from_directory(\n",
    "    'D:\\\\RG\\\\Crop_Identifier\\\\Crop_Identifier\\\\train',\n",
    "    target_size=(224, 224),\n",
    "    batch_size=32)\n",
    "\n",
    "test_generator = test_datagen.flow_from_directory(\n",
    "    'D:\\\\RG\\\\Crop_Identifier\\\\Crop_Identifier\\\\test',\n",
    "    target_size=(224, 224),\n",
    "    batch_size=32)"
   ]
  },
  {
   "cell_type": "code",
   "execution_count": 3,
   "metadata": {},
   "outputs": [
    {
     "name": "stdout",
     "output_type": "stream",
     "text": [
      "Image batch shape: (32, 224, 224, 3)\n",
      "Label batch shape: (32, 23)\n",
      "['Aloe' 'Bamboo' 'Banana' 'Bay' 'Bhringraj' 'Brahmi' 'Catnip' 'Coriander'\n",
      " 'Cotton' 'Curry_Leaves' 'Fennel' 'Jute' 'Lemongrass' 'Maize' 'Mint'\n",
      " 'Neem' 'Pea' 'Rice' 'Sage' 'Sugarcane' 'Tulsi' 'Wheat' 'Potato']\n"
     ]
    }
   ],
   "source": [
    "image_batch_train, label_batch_train=next(iter(train_generator))\n",
    "print(\"Image batch shape:\", image_batch_train.shape)\n",
    "print(\"Label batch shape:\", label_batch_train.shape)\n",
    "dataset_labels = sorted(train_generator.class_indices.items(),\n",
    "                       key=lambda pair:pair[1])\n",
    "dataset_labels = np.array([key.title() for key, value in\n",
    "                          dataset_labels])\n",
    "print(dataset_labels)"
   ]
  },
  {
   "cell_type": "code",
   "execution_count": 4,
   "metadata": {},
   "outputs": [
    {
     "name": "stdout",
     "output_type": "stream",
     "text": [
      "WARNING:tensorflow:From D:\\RG\\check\\lib\\site-packages\\tensorflow\\python\\ops\\init_ops.py:1251: calling VarianceScaling.__init__ (from tensorflow.python.ops.init_ops) with dtype is deprecated and will be removed in a future version.\n",
      "Instructions for updating:\n",
      "Call initializer instance with the dtype argument instead of passing it to the constructor\n"
     ]
    },
    {
     "name": "stderr",
     "output_type": "stream",
     "text": [
      "WARNING:tensorflow:From D:\\RG\\check\\lib\\site-packages\\tensorflow\\python\\ops\\init_ops.py:1251: calling VarianceScaling.__init__ (from tensorflow.python.ops.init_ops) with dtype is deprecated and will be removed in a future version.\n",
      "Instructions for updating:\n",
      "Call initializer instance with the dtype argument instead of passing it to the constructor\n"
     ]
    },
    {
     "name": "stdout",
     "output_type": "stream",
     "text": [
      "WARNING:tensorflow:Entity <bound method KerasLayer.call of <tensorflow_hub.keras_layer.KerasLayer object at 0x0000025B8AA1F048>> could not be transformed and will be executed as-is. Please report this to the AutgoGraph team. When filing the bug, set the verbosity to 10 (on Linux, `export AUTOGRAPH_VERBOSITY=10`) and attach the full output. Cause: converting <bound method KerasLayer.call of <tensorflow_hub.keras_layer.KerasLayer object at 0x0000025B8AA1F048>>: AttributeError: module 'gast' has no attribute 'Index'\n"
     ]
    },
    {
     "name": "stderr",
     "output_type": "stream",
     "text": [
      "WARNING:tensorflow:Entity <bound method KerasLayer.call of <tensorflow_hub.keras_layer.KerasLayer object at 0x0000025B8AA1F048>> could not be transformed and will be executed as-is. Please report this to the AutgoGraph team. When filing the bug, set the verbosity to 10 (on Linux, `export AUTOGRAPH_VERBOSITY=10`) and attach the full output. Cause: converting <bound method KerasLayer.call of <tensorflow_hub.keras_layer.KerasLayer object at 0x0000025B8AA1F048>>: AttributeError: module 'gast' has no attribute 'Index'\n"
     ]
    },
    {
     "name": "stdout",
     "output_type": "stream",
     "text": [
      "WARNING: Entity <bound method KerasLayer.call of <tensorflow_hub.keras_layer.KerasLayer object at 0x0000025B8AA1F048>> could not be transformed and will be executed as-is. Please report this to the AutgoGraph team. When filing the bug, set the verbosity to 10 (on Linux, `export AUTOGRAPH_VERBOSITY=10`) and attach the full output. Cause: converting <bound method KerasLayer.call of <tensorflow_hub.keras_layer.KerasLayer object at 0x0000025B8AA1F048>>: AttributeError: module 'gast' has no attribute 'Index'\n",
      "Model: \"sequential\"\n",
      "_________________________________________________________________\n",
      "Layer (type)                 Output Shape              Param #   \n",
      "=================================================================\n",
      "keras_layer (KerasLayer)     multiple                  2257984   \n",
      "_________________________________________________________________\n",
      "dropout (Dropout)            multiple                  0         \n",
      "_________________________________________________________________\n",
      "dense (Dense)                multiple                  29463     \n",
      "=================================================================\n",
      "Total params: 2,287,447\n",
      "Trainable params: 29,463\n",
      "Non-trainable params: 2,257,984\n",
      "_________________________________________________________________\n"
     ]
    }
   ],
   "source": [
    "np.random.seed(42)\n",
    "import tensorflow_hub as hub\n",
    "model = tf.keras.Sequential([\n",
    "hub.KerasLayer(\"https://tfhub.dev/google/tf2-preview/mobilenet_v2/feature_vector/4\", \n",
    "output_shape=[1280],\n",
    "trainable=False),\n",
    "tf.keras.layers.Dropout(0.4),\n",
    "tf.keras.layers.Dense(train_generator.num_classes, activation='softmax')\n",
    "])\n",
    "model.build([None, 224, 224, 3])\n",
    "model.summary()"
   ]
  },
  {
   "cell_type": "code",
   "execution_count": 5,
   "metadata": {},
   "outputs": [],
   "source": [
    "optimizer = tf.keras.optimizers.Adam()\n",
    "model.compile(\n",
    " optimizer=optimizer,\n",
    " loss='categorical_crossentropy',\n",
    " metrics=['acc'])"
   ]
  },
  {
   "cell_type": "code",
   "execution_count": 6,
   "metadata": {},
   "outputs": [],
   "source": [
    "from PIL import ImageFile\n",
    "ImageFile.LOAD_TRUNCATED_IMAGES = True"
   ]
  },
  {
   "cell_type": "code",
   "execution_count": 7,
   "metadata": {},
   "outputs": [
    {
     "name": "stdout",
     "output_type": "stream",
     "text": [
      "Epoch 1/20\n",
      "WARNING:tensorflow:Entity <bound method KerasLayer.call of <tensorflow_hub.keras_layer.KerasLayer object at 0x0000025B8AA1F048>> could not be transformed and will be executed as-is. Please report this to the AutgoGraph team. When filing the bug, set the verbosity to 10 (on Linux, `export AUTOGRAPH_VERBOSITY=10`) and attach the full output. Cause: converting <bound method KerasLayer.call of <tensorflow_hub.keras_layer.KerasLayer object at 0x0000025B8AA1F048>>: AttributeError: module 'gast' has no attribute 'Index'\n"
     ]
    },
    {
     "name": "stderr",
     "output_type": "stream",
     "text": [
      "WARNING:tensorflow:Entity <bound method KerasLayer.call of <tensorflow_hub.keras_layer.KerasLayer object at 0x0000025B8AA1F048>> could not be transformed and will be executed as-is. Please report this to the AutgoGraph team. When filing the bug, set the verbosity to 10 (on Linux, `export AUTOGRAPH_VERBOSITY=10`) and attach the full output. Cause: converting <bound method KerasLayer.call of <tensorflow_hub.keras_layer.KerasLayer object at 0x0000025B8AA1F048>>: AttributeError: module 'gast' has no attribute 'Index'\n"
     ]
    },
    {
     "name": "stdout",
     "output_type": "stream",
     "text": [
      "WARNING: Entity <bound method KerasLayer.call of <tensorflow_hub.keras_layer.KerasLayer object at 0x0000025B8AA1F048>> could not be transformed and will be executed as-is. Please report this to the AutgoGraph team. When filing the bug, set the verbosity to 10 (on Linux, `export AUTOGRAPH_VERBOSITY=10`) and attach the full output. Cause: converting <bound method KerasLayer.call of <tensorflow_hub.keras_layer.KerasLayer object at 0x0000025B8AA1F048>>: AttributeError: module 'gast' has no attribute 'Index'\n",
      "61/61 [==============================] - 161s 3s/step - loss: 2.3707 - acc: 0.2039\n",
      "Epoch 2/20\n",
      "61/61 [==============================] - 73s 1s/step - loss: 1.4911 - acc: 0.5205\n",
      "Epoch 3/20\n",
      "61/61 [==============================] - 63s 1s/step - loss: 1.2091 - acc: 0.6047\n",
      "Epoch 4/20\n",
      "61/61 [==============================] - 67s 1s/step - loss: 1.0347 - acc: 0.6637\n",
      "Epoch 5/20\n",
      "61/61 [==============================] - 64s 1s/step - loss: 0.9482 - acc: 0.6894\n",
      "Epoch 6/20\n",
      "61/61 [==============================] - 68s 1s/step - loss: 0.8523 - acc: 0.7276\n",
      "Epoch 7/20\n",
      "61/61 [==============================] - 64s 1s/step - loss: 0.7883 - acc: 0.7360\n",
      "Epoch 8/20\n",
      "61/61 [==============================] - 139s 2s/step - loss: 0.7722 - acc: 0.7441\n",
      "Epoch 9/20\n",
      "61/61 [==============================] - 128s 2s/step - loss: 0.6870 - acc: 0.7670\n",
      "Epoch 10/20\n",
      "61/61 [==============================] - 68s 1s/step - loss: 0.6887 - acc: 0.7652\n",
      "Epoch 11/20\n",
      "61/61 [==============================] - 68s 1s/step - loss: 0.6255 - acc: 0.7969\n",
      "Epoch 12/20\n",
      "61/61 [==============================] - 70s 1s/step - loss: 0.6316 - acc: 0.8015\n",
      "Epoch 13/20\n",
      "61/61 [==============================] - 64s 1s/step - loss: 0.6104 - acc: 0.7978\n",
      "Epoch 14/20\n",
      "61/61 [==============================] - 73s 1s/step - loss: 0.6017 - acc: 0.8029\n",
      "Epoch 15/20\n",
      "61/61 [==============================] - 63s 1s/step - loss: 0.5397 - acc: 0.8214\n",
      "Epoch 16/20\n",
      "61/61 [==============================] - 65s 1s/step - loss: 0.5542 - acc: 0.8312\n",
      "Epoch 17/20\n",
      "61/61 [==============================] - 62s 1s/step - loss: 0.5265 - acc: 0.8269\n",
      "Epoch 18/20\n",
      "61/61 [==============================] - 65s 1s/step - loss: 0.5105 - acc: 0.8274\n",
      "Epoch 19/20\n",
      "61/61 [==============================] - 62s 1s/step - loss: 0.5094 - acc: 0.8278\n",
      "Epoch 20/20\n",
      "61/61 [==============================] - 66s 1s/step - loss: 0.5093 - acc: 0.8305\n"
     ]
    }
   ],
   "source": [
    "steps_per_epoch = np.ceil(train_generator.samples/train_generator.batch_size)\n",
    "hist = model.fit(\n",
    " train_generator, \n",
    " epochs=20,\n",
    " steps_per_epoch=steps_per_epoch).history"
   ]
  },
  {
   "cell_type": "code",
   "execution_count": 39,
   "metadata": {},
   "outputs": [],
   "source": [
    "model.save('saved_model_3.h5')"
   ]
  },
  {
   "cell_type": "code",
   "execution_count": 43,
   "metadata": {},
   "outputs": [
    {
     "name": "stdout",
     "output_type": "stream",
     "text": [
      "WARNING:tensorflow:From D:\\RG\\check\\lib\\site-packages\\tensorflow\\python\\ops\\init_ops.py:97: calling GlorotUniform.__init__ (from tensorflow.python.ops.init_ops) with dtype is deprecated and will be removed in a future version.\n",
      "Instructions for updating:\n",
      "Call initializer instance with the dtype argument instead of passing it to the constructor\n"
     ]
    },
    {
     "name": "stderr",
     "output_type": "stream",
     "text": [
      "WARNING:tensorflow:From D:\\RG\\check\\lib\\site-packages\\tensorflow\\python\\ops\\init_ops.py:97: calling GlorotUniform.__init__ (from tensorflow.python.ops.init_ops) with dtype is deprecated and will be removed in a future version.\n",
      "Instructions for updating:\n",
      "Call initializer instance with the dtype argument instead of passing it to the constructor\n"
     ]
    },
    {
     "name": "stdout",
     "output_type": "stream",
     "text": [
      "WARNING:tensorflow:From D:\\RG\\check\\lib\\site-packages\\tensorflow\\python\\ops\\init_ops.py:97: calling Zeros.__init__ (from tensorflow.python.ops.init_ops) with dtype is deprecated and will be removed in a future version.\n",
      "Instructions for updating:\n",
      "Call initializer instance with the dtype argument instead of passing it to the constructor\n"
     ]
    },
    {
     "name": "stderr",
     "output_type": "stream",
     "text": [
      "WARNING:tensorflow:From D:\\RG\\check\\lib\\site-packages\\tensorflow\\python\\ops\\init_ops.py:97: calling Zeros.__init__ (from tensorflow.python.ops.init_ops) with dtype is deprecated and will be removed in a future version.\n",
      "Instructions for updating:\n",
      "Call initializer instance with the dtype argument instead of passing it to the constructor\n"
     ]
    },
    {
     "name": "stdout",
     "output_type": "stream",
     "text": [
      "WARNING:tensorflow:Entity <bound method KerasLayer.call of <tensorflow_hub.keras_layer.KerasLayer object at 0x0000025BAF28C320>> could not be transformed and will be executed as-is. Please report this to the AutgoGraph team. When filing the bug, set the verbosity to 10 (on Linux, `export AUTOGRAPH_VERBOSITY=10`) and attach the full output. Cause: converting <bound method KerasLayer.call of <tensorflow_hub.keras_layer.KerasLayer object at 0x0000025BAF28C320>>: AttributeError: module 'gast' has no attribute 'Index'\n"
     ]
    },
    {
     "name": "stderr",
     "output_type": "stream",
     "text": [
      "WARNING:tensorflow:Entity <bound method KerasLayer.call of <tensorflow_hub.keras_layer.KerasLayer object at 0x0000025BAF28C320>> could not be transformed and will be executed as-is. Please report this to the AutgoGraph team. When filing the bug, set the verbosity to 10 (on Linux, `export AUTOGRAPH_VERBOSITY=10`) and attach the full output. Cause: converting <bound method KerasLayer.call of <tensorflow_hub.keras_layer.KerasLayer object at 0x0000025BAF28C320>>: AttributeError: module 'gast' has no attribute 'Index'\n"
     ]
    },
    {
     "name": "stdout",
     "output_type": "stream",
     "text": [
      "WARNING: Entity <bound method KerasLayer.call of <tensorflow_hub.keras_layer.KerasLayer object at 0x0000025BAF28C320>> could not be transformed and will be executed as-is. Please report this to the AutgoGraph team. When filing the bug, set the verbosity to 10 (on Linux, `export AUTOGRAPH_VERBOSITY=10`) and attach the full output. Cause: converting <bound method KerasLayer.call of <tensorflow_hub.keras_layer.KerasLayer object at 0x0000025BAF28C320>>: AttributeError: module 'gast' has no attribute 'Index'\n",
      "WARNING:tensorflow:Sequential models without an `input_shape` passed to the first layer cannot reload their optimizer state. As a result, your model isstarting with a freshly initialized optimizer.\n"
     ]
    },
    {
     "name": "stderr",
     "output_type": "stream",
     "text": [
      "WARNING:tensorflow:Sequential models without an `input_shape` passed to the first layer cannot reload their optimizer state. As a result, your model isstarting with a freshly initialized optimizer.\n"
     ]
    },
    {
     "name": "stdout",
     "output_type": "stream",
     "text": [
      "Model: \"sequential\"\n",
      "_________________________________________________________________\n",
      "Layer (type)                 Output Shape              Param #   \n",
      "=================================================================\n",
      "keras_layer (KerasLayer)     multiple                  2257984   \n",
      "_________________________________________________________________\n",
      "dropout (Dropout)            multiple                  0         \n",
      "_________________________________________________________________\n",
      "dense (Dense)                multiple                  29463     \n",
      "=================================================================\n",
      "Total params: 2,287,447\n",
      "Trainable params: 29,463\n",
      "Non-trainable params: 2,257,984\n",
      "_________________________________________________________________\n"
     ]
    }
   ],
   "source": [
    "new_model = tf.keras.models.load_model('saved_model_3.h5',custom_objects={'KerasLayer':hub.KerasLayer})\n",
    "new_model.summary()"
   ]
  },
  {
   "cell_type": "code",
   "execution_count": 16,
   "metadata": {},
   "outputs": [
    {
     "name": "stdout",
     "output_type": "stream",
     "text": [
      "a\n"
     ]
    }
   ],
   "source": [
    "print(\"a\")"
   ]
  }
 ],
 "metadata": {
  "kernelspec": {
   "display_name": "Python 3",
   "language": "python",
   "name": "python3"
  },
  "language_info": {
   "codemirror_mode": {
    "name": "ipython",
    "version": 3
   },
   "file_extension": ".py",
   "mimetype": "text/x-python",
   "name": "python",
   "nbconvert_exporter": "python",
   "pygments_lexer": "ipython3",
   "version": "3.7.3"
  }
 },
 "nbformat": 4,
 "nbformat_minor": 2
}
